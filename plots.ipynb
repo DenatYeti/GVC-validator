{
 "cells": [
  {
   "cell_type": "code",
   "execution_count": 4,
   "id": "02efa6f8-0e54-413e-8183-5f92d8563bf1",
   "metadata": {},
   "outputs": [],
   "source": [
    "import pandas as pd\n",
    "import plotly.express as px\n",
    "import plotly.graph_objects as go\n",
    "import ipywidgets as widgets\n",
    "from ipywidgets import interactive\n",
    "import plotly.io as pio"
   ]
  },
  {
   "cell_type": "code",
   "execution_count": 5,
   "id": "e9758b56-9d2e-43ee-88cd-a9c67d0bcd26",
   "metadata": {},
   "outputs": [
    {
     "data": {
      "application/vnd.jupyter.widget-view+json": {
       "model_id": "b3ea4f3bc4ed40e2a9749fb981f28b70",
       "version_major": 2,
       "version_minor": 0
      },
      "text/plain": [
       "interactive(children=(Dropdown(description='Color by:', options=('IsBetaEasy', 'NumGoodAlgos', 'num_vertices',…"
      ]
     },
     "execution_count": 5,
     "metadata": {},
     "output_type": "execute_result"
    }
   ],
   "source": [
    "pio.renderers.default = 'iframe'\n",
    "\n",
    "df = pd.read_csv('instance_space.csv') # should do a list comprehension or something here to take all features\n",
    "\n",
    "df.head()\n",
    "\n",
    "color_options = df.select_dtypes(include=['number']).columns.tolist()\n",
    "color_options = [col for col in color_options if col not in ['z_1','z_2']]\n",
    "\n",
    "\n",
    "def plot(color_feature):\n",
    "    fig = px.scatter(df,\n",
    "                    x='z_1',\n",
    "                    y='z_2',\n",
    "                    color = color_feature, # default coloring\n",
    "                    hover_data = ['instance_name'],\n",
    "                    title = f'Pyhard ISA: {color_feature}',\n",
    "                    color_continuous_scale = 'Bluered') #need to try more different ones.\n",
    "    fig.update_layout(title=f'Pyhard ISA: {color_feature}', width=700, height=700, autosize=False)\n",
    "    fig.show()\n",
    "    \n",
    "color_feature_dropdown = widgets.Dropdown(\n",
    "    options=color_options,\n",
    "    value=color_options[0],\n",
    "    description='Color by:',\n",
    ")\n",
    "\n",
    "interactive_plot = interactive(plot, color_feature=color_feature_dropdown)\n",
    "interactive_plot"
   ]
  },
  {
   "cell_type": "code",
   "execution_count": 6,
   "id": "ddedd1b8-7e6a-474b-913b-922e40ffb805",
   "metadata": {},
   "outputs": [
    {
     "data": {
      "application/vnd.jupyter.widget-view+json": {
       "model_id": "4fa2376e603d4d9882b2565e2c54c7bd",
       "version_major": 2,
       "version_minor": 0
      },
      "text/plain": [
       "interactive(children=(Dropdown(description='Color by:', options=('IsBetaEasy', 'NumGoodAlgos', 'num_edges', 'l…"
      ]
     },
     "execution_count": 6,
     "metadata": {},
     "output_type": "execute_result"
    }
   ],
   "source": [
    "pio.renderers.default = 'iframe'\n",
    "\n",
    "df2 = pd.read_csv('matilda.csv') # should do a list comprehension or something here to take all features\n",
    "\n",
    "df2.head()\n",
    "\n",
    "color_list = df2.select_dtypes(include=['number']).columns.tolist()\n",
    "color_list = [col for col in color_list if col not in ['z_1','z_2']]\n",
    "\n",
    "\n",
    "def plot(color_feature):\n",
    "    fig = px.scatter(df2,\n",
    "                    x='z_1',\n",
    "                    y='z_2',\n",
    "                    color = color_feature, # default coloring\n",
    "                    hover_data = ['instance_name'],\n",
    "                    title = f'Matilda ISA: {color_feature}',\n",
    "                    color_continuous_scale = 'Bluered') #need to try more different ones.\n",
    "    fig.update_layout(title=f'Matilda ISA: {color_feature}', width=700, height=700, autosize=False)\n",
    "    fig.show()\n",
    "    \n",
    "color_list_dropdown = widgets.Dropdown(\n",
    "    options=color_list,\n",
    "    value=color_list[0],\n",
    "    description='Color by:',\n",
    ")\n",
    "\n",
    "matilda_plot = interactive(plot, color_feature=color_list_dropdown)\n",
    "matilda_plot"
   ]
  },
  {
   "cell_type": "code",
   "execution_count": null,
   "id": "2a31d8c7-5c3b-4a03-a287-31ee45fdef4a",
   "metadata": {},
   "outputs": [],
   "source": []
  },
  {
   "cell_type": "code",
   "execution_count": null,
   "id": "7275c70a-f503-4f45-9d60-b803b00068f4",
   "metadata": {},
   "outputs": [],
   "source": []
  }
 ],
 "metadata": {
  "kernelspec": {
   "display_name": "Python 3 (ipykernel)",
   "language": "python",
   "name": "python3"
  },
  "language_info": {
   "codemirror_mode": {
    "name": "ipython",
    "version": 3
   },
   "file_extension": ".py",
   "mimetype": "text/x-python",
   "name": "python",
   "nbconvert_exporter": "python",
   "pygments_lexer": "ipython3",
   "version": "3.13.0"
  }
 },
 "nbformat": 4,
 "nbformat_minor": 5
}
